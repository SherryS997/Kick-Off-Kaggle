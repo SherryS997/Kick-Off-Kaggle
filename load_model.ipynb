{
 "cells": [
  {
   "cell_type": "code",
   "execution_count": 27,
   "metadata": {},
   "outputs": [],
   "source": [
    "import numpy as np\n",
    "import tensorflow as tf\n",
    "import pickle\n",
    "import pandas as pd"
   ]
  },
  {
   "cell_type": "code",
   "execution_count": 28,
   "metadata": {},
   "outputs": [],
   "source": [
    "X_test = pickle.load(open(\"X_test.pkl\", \"rb\"))\n",
    "X_labels = pickle.load(open(\"X_labels.pkl\", \"rb\"))"
   ]
  },
  {
   "cell_type": "code",
   "execution_count": 29,
   "metadata": {},
   "outputs": [],
   "source": [
    "model = tf.keras.models.load_model(\"models/6.h5\")"
   ]
  },
  {
   "cell_type": "code",
   "execution_count": 30,
   "metadata": {},
   "outputs": [
    {
     "name": "stdout",
     "output_type": "stream",
     "text": [
      "Model: \"sequential_9\"\n",
      "_________________________________________________________________\n",
      " Layer (type)                Output Shape              Param #   \n",
      "=================================================================\n",
      " normalization_5 (Normalizat  (None, 638)              1277      \n",
      " ion)                                                            \n",
      "                                                                 \n",
      " dense_36 (Dense)            (None, 256)               163584    \n",
      "                                                                 \n",
      " batch_normalization_27 (Bat  (None, 256)              1024      \n",
      " chNormalization)                                                \n",
      "                                                                 \n",
      " dropout_27 (Dropout)        (None, 256)               0         \n",
      "                                                                 \n",
      " dense_37 (Dense)            (None, 128)               32896     \n",
      "                                                                 \n",
      " batch_normalization_28 (Bat  (None, 128)              512       \n",
      " chNormalization)                                                \n",
      "                                                                 \n",
      " dropout_28 (Dropout)        (None, 128)               0         \n",
      "                                                                 \n",
      " dense_38 (Dense)            (None, 64)                8256      \n",
      "                                                                 \n",
      " batch_normalization_29 (Bat  (None, 64)               256       \n",
      " chNormalization)                                                \n",
      "                                                                 \n",
      " dropout_29 (Dropout)        (None, 64)                0         \n",
      "                                                                 \n",
      " dense_39 (Dense)            (None, 11)                715       \n",
      "                                                                 \n",
      "=================================================================\n",
      "Total params: 208,520\n",
      "Trainable params: 206,347\n",
      "Non-trainable params: 2,173\n",
      "_________________________________________________________________\n"
     ]
    }
   ],
   "source": [
    "model.summary()"
   ]
  },
  {
   "cell_type": "code",
   "execution_count": 31,
   "metadata": {},
   "outputs": [],
   "source": [
    "predictions = model.predict(X_test)"
   ]
  },
  {
   "cell_type": "code",
   "execution_count": 32,
   "metadata": {},
   "outputs": [
    {
     "data": {
      "text/plain": [
       "0    2\n",
       "1    8\n",
       "2    8\n",
       "3    4\n",
       "4    4\n",
       "dtype: int64"
      ]
     },
     "execution_count": 32,
     "metadata": {},
     "output_type": "execute_result"
    }
   ],
   "source": [
    "predictions_np = pd.Series(np.argmax(predictions, axis=1))\n",
    "predictions_np.head()"
   ]
  },
  {
   "cell_type": "code",
   "execution_count": 33,
   "metadata": {},
   "outputs": [
    {
     "data": {
      "text/html": [
       "<div>\n",
       "<style scoped>\n",
       "    .dataframe tbody tr th:only-of-type {\n",
       "        vertical-align: middle;\n",
       "    }\n",
       "\n",
       "    .dataframe tbody tr th {\n",
       "        vertical-align: top;\n",
       "    }\n",
       "\n",
       "    .dataframe thead th {\n",
       "        text-align: right;\n",
       "    }\n",
       "</style>\n",
       "<table border=\"1\" class=\"dataframe\">\n",
       "  <thead>\n",
       "    <tr style=\"text-align: right;\">\n",
       "      <th></th>\n",
       "      <th>player_ids</th>\n",
       "    </tr>\n",
       "  </thead>\n",
       "  <tbody>\n",
       "    <tr>\n",
       "      <th>0</th>\n",
       "      <td>[238577, 189730, 212616, 209729, 246565, 23309...</td>\n",
       "    </tr>\n",
       "    <tr>\n",
       "      <th>1</th>\n",
       "      <td>[227675, 177793, 199511, 204387, 199964, 24472...</td>\n",
       "    </tr>\n",
       "    <tr>\n",
       "      <th>2</th>\n",
       "      <td>[199522, 225810, 227740, 243139, 229771, 18347...</td>\n",
       "    </tr>\n",
       "    <tr>\n",
       "      <th>3</th>\n",
       "      <td>[223953, 222399, 231307, 196143, 212814, 24479...</td>\n",
       "    </tr>\n",
       "    <tr>\n",
       "      <th>4</th>\n",
       "      <td>[53110, 229137, 213887, 179891, 228595, 211736...</td>\n",
       "    </tr>\n",
       "  </tbody>\n",
       "</table>\n",
       "</div>"
      ],
      "text/plain": [
       "                                          player_ids\n",
       "0  [238577, 189730, 212616, 209729, 246565, 23309...\n",
       "1  [227675, 177793, 199511, 204387, 199964, 24472...\n",
       "2  [199522, 225810, 227740, 243139, 229771, 18347...\n",
       "3  [223953, 222399, 231307, 196143, 212814, 24479...\n",
       "4  [53110, 229137, 213887, 179891, 228595, 211736..."
      ]
     },
     "execution_count": 33,
     "metadata": {},
     "output_type": "execute_result"
    }
   ],
   "source": [
    "test = pd.read_csv(\"dataset/FIFA_test.csv\")\n",
    "test.head()"
   ]
  },
  {
   "cell_type": "code",
   "execution_count": 34,
   "metadata": {},
   "outputs": [
    {
     "data": {
      "text/html": [
       "<div>\n",
       "<style scoped>\n",
       "    .dataframe tbody tr th:only-of-type {\n",
       "        vertical-align: middle;\n",
       "    }\n",
       "\n",
       "    .dataframe tbody tr th {\n",
       "        vertical-align: top;\n",
       "    }\n",
       "\n",
       "    .dataframe thead th {\n",
       "        text-align: right;\n",
       "    }\n",
       "</style>\n",
       "<table border=\"1\" class=\"dataframe\">\n",
       "  <thead>\n",
       "    <tr style=\"text-align: right;\">\n",
       "      <th></th>\n",
       "      <th>0</th>\n",
       "      <th>1</th>\n",
       "      <th>2</th>\n",
       "      <th>3</th>\n",
       "      <th>4</th>\n",
       "      <th>5</th>\n",
       "      <th>6</th>\n",
       "      <th>7</th>\n",
       "      <th>8</th>\n",
       "      <th>9</th>\n",
       "      <th>10</th>\n",
       "    </tr>\n",
       "  </thead>\n",
       "  <tbody>\n",
       "    <tr>\n",
       "      <th>0</th>\n",
       "      <td>238577</td>\n",
       "      <td>189730</td>\n",
       "      <td>212616</td>\n",
       "      <td>209729</td>\n",
       "      <td>246565</td>\n",
       "      <td>233090</td>\n",
       "      <td>8631</td>\n",
       "      <td>216047</td>\n",
       "      <td>196143</td>\n",
       "      <td>247728</td>\n",
       "      <td>193092</td>\n",
       "    </tr>\n",
       "    <tr>\n",
       "      <th>1</th>\n",
       "      <td>227675</td>\n",
       "      <td>177793</td>\n",
       "      <td>199511</td>\n",
       "      <td>204387</td>\n",
       "      <td>199964</td>\n",
       "      <td>244727</td>\n",
       "      <td>176619</td>\n",
       "      <td>169181</td>\n",
       "      <td>207734</td>\n",
       "      <td>211840</td>\n",
       "      <td>242197</td>\n",
       "    </tr>\n",
       "    <tr>\n",
       "      <th>2</th>\n",
       "      <td>199522</td>\n",
       "      <td>225810</td>\n",
       "      <td>227740</td>\n",
       "      <td>243139</td>\n",
       "      <td>229771</td>\n",
       "      <td>183475</td>\n",
       "      <td>198970</td>\n",
       "      <td>170084</td>\n",
       "      <td>180403</td>\n",
       "      <td>240904</td>\n",
       "      <td>204555</td>\n",
       "    </tr>\n",
       "    <tr>\n",
       "      <th>3</th>\n",
       "      <td>223953</td>\n",
       "      <td>222399</td>\n",
       "      <td>231307</td>\n",
       "      <td>196143</td>\n",
       "      <td>212814</td>\n",
       "      <td>244794</td>\n",
       "      <td>208335</td>\n",
       "      <td>173305</td>\n",
       "      <td>160179</td>\n",
       "      <td>142721</td>\n",
       "      <td>245747</td>\n",
       "    </tr>\n",
       "    <tr>\n",
       "      <th>4</th>\n",
       "      <td>53110</td>\n",
       "      <td>229137</td>\n",
       "      <td>213887</td>\n",
       "      <td>179891</td>\n",
       "      <td>228595</td>\n",
       "      <td>211736</td>\n",
       "      <td>243305</td>\n",
       "      <td>228886</td>\n",
       "      <td>212000</td>\n",
       "      <td>233276</td>\n",
       "      <td>244564</td>\n",
       "    </tr>\n",
       "  </tbody>\n",
       "</table>\n",
       "</div>"
      ],
      "text/plain": [
       "       0       1       2       3       4       5       6       7       8   \\\n",
       "0  238577  189730  212616  209729  246565  233090    8631  216047  196143   \n",
       "1  227675  177793  199511  204387  199964  244727  176619  169181  207734   \n",
       "2  199522  225810  227740  243139  229771  183475  198970  170084  180403   \n",
       "3  223953  222399  231307  196143  212814  244794  208335  173305  160179   \n",
       "4   53110  229137  213887  179891  228595  211736  243305  228886  212000   \n",
       "\n",
       "       9       10  \n",
       "0  247728  193092  \n",
       "1  211840  242197  \n",
       "2  240904  204555  \n",
       "3  142721  245747  \n",
       "4  233276  244564  "
      ]
     },
     "execution_count": 34,
     "metadata": {},
     "output_type": "execute_result"
    }
   ],
   "source": [
    "X_labels = pd.DataFrame(X_labels.reshape(1462, 11))\n",
    "X_labels.head()"
   ]
  },
  {
   "cell_type": "code",
   "execution_count": 35,
   "metadata": {},
   "outputs": [
    {
     "name": "stderr",
     "output_type": "stream",
     "text": [
      "/tmp/ipykernel_35645/4096135147.py:1: FutureWarning: The 'lookup' method is deprecated and will beremoved in a future version.You can use DataFrame.melt and DataFrame.locas a substitute.\n",
      "  preds = X_labels.lookup(predictions_np.index, predictions_np.values)\n"
     ]
    }
   ],
   "source": [
    "preds = X_labels.lookup(predictions_np.index, predictions_np.values)"
   ]
  },
  {
   "cell_type": "code",
   "execution_count": 36,
   "metadata": {},
   "outputs": [
    {
     "data": {
      "text/html": [
       "<div>\n",
       "<style scoped>\n",
       "    .dataframe tbody tr th:only-of-type {\n",
       "        vertical-align: middle;\n",
       "    }\n",
       "\n",
       "    .dataframe tbody tr th {\n",
       "        vertical-align: top;\n",
       "    }\n",
       "\n",
       "    .dataframe thead th {\n",
       "        text-align: right;\n",
       "    }\n",
       "</style>\n",
       "<table border=\"1\" class=\"dataframe\">\n",
       "  <thead>\n",
       "    <tr style=\"text-align: right;\">\n",
       "      <th></th>\n",
       "      <th>player_ids</th>\n",
       "      <th>most_valued_player_id</th>\n",
       "    </tr>\n",
       "  </thead>\n",
       "  <tbody>\n",
       "    <tr>\n",
       "      <th>0</th>\n",
       "      <td>[238577, 189730, 212616, 209729, 246565, 23309...</td>\n",
       "      <td>212616</td>\n",
       "    </tr>\n",
       "    <tr>\n",
       "      <th>1</th>\n",
       "      <td>[227675, 177793, 199511, 204387, 199964, 24472...</td>\n",
       "      <td>207734</td>\n",
       "    </tr>\n",
       "    <tr>\n",
       "      <th>2</th>\n",
       "      <td>[199522, 225810, 227740, 243139, 229771, 18347...</td>\n",
       "      <td>180403</td>\n",
       "    </tr>\n",
       "    <tr>\n",
       "      <th>3</th>\n",
       "      <td>[223953, 222399, 231307, 196143, 212814, 24479...</td>\n",
       "      <td>212814</td>\n",
       "    </tr>\n",
       "    <tr>\n",
       "      <th>4</th>\n",
       "      <td>[53110, 229137, 213887, 179891, 228595, 211736...</td>\n",
       "      <td>228595</td>\n",
       "    </tr>\n",
       "  </tbody>\n",
       "</table>\n",
       "</div>"
      ],
      "text/plain": [
       "                                          player_ids  most_valued_player_id\n",
       "0  [238577, 189730, 212616, 209729, 246565, 23309...                 212616\n",
       "1  [227675, 177793, 199511, 204387, 199964, 24472...                 207734\n",
       "2  [199522, 225810, 227740, 243139, 229771, 18347...                 180403\n",
       "3  [223953, 222399, 231307, 196143, 212814, 24479...                 212814\n",
       "4  [53110, 229137, 213887, 179891, 228595, 211736...                 228595"
      ]
     },
     "execution_count": 36,
     "metadata": {},
     "output_type": "execute_result"
    }
   ],
   "source": [
    "output = pd.DataFrame({\"player_ids\": test.player_ids, \"most_valued_player_id\": np.squeeze(preds)})\n",
    "output.head()"
   ]
  },
  {
   "cell_type": "code",
   "execution_count": 37,
   "metadata": {},
   "outputs": [],
   "source": [
    "output.to_csv(\"outputs/7.csv\", index=False)"
   ]
  },
  {
   "cell_type": "code",
   "execution_count": null,
   "metadata": {},
   "outputs": [],
   "source": []
  }
 ],
 "metadata": {
  "interpreter": {
   "hash": "e7370f93d1d0cde622a1f8e1c04877d8463912d04d973331ad4851f04de6915a"
  },
  "kernelspec": {
   "display_name": "Python 3.10.1 64-bit",
   "language": "python",
   "name": "python3"
  },
  "language_info": {
   "codemirror_mode": {
    "name": "ipython",
    "version": 3
   },
   "file_extension": ".py",
   "mimetype": "text/x-python",
   "name": "python",
   "nbconvert_exporter": "python",
   "pygments_lexer": "ipython3",
   "version": "3.10.1"
  },
  "orig_nbformat": 4
 },
 "nbformat": 4,
 "nbformat_minor": 2
}
